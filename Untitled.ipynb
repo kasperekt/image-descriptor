{
 "cells": [
  {
   "cell_type": "code",
   "execution_count": 5,
   "metadata": {},
   "outputs": [],
   "source": [
    "import numpy as np\n",
    "from skimage.transform import ProjectiveTransform\n",
    "from tools import get_keypoints_random\n",
    "from descriptor import extract, distance, distance_weighted"
   ]
  },
  {
   "cell_type": "code",
   "execution_count": 2,
   "metadata": {},
   "outputs": [],
   "source": [
    "def read_image_set(base_path, extension='ppm'):\n",
    "    img_set = []\n",
    "\n",
    "    # Read first image\n",
    "    img1 = imread('{}/img1.{}'.format(base_path, extension), as_grey=True)\n",
    "    img_set.append((img1, None))\n",
    "\n",
    "    # Read remaining images with corresponding matrices\n",
    "    for index in range(2, 7):\n",
    "        img = imread(path.join(base_path, 'img{}.{}'.format(\n",
    "            index, extension)), as_grey=True)\n",
    "        matrix = np.loadtxt(path.join(base_path, 'H1to{}p'.format(index)))\n",
    "        img_set.append((img, matrix))\n",
    "\n",
    "    return np.array(img_set)"
   ]
  },
  {
   "cell_type": "code",
   "execution_count": 14,
   "metadata": {},
   "outputs": [],
   "source": [
    "def test(img_set):\n",
    "    img1 = img_set[0, 0]\n",
    "    img1_keypoints = get_keypoints_random(img1)\n",
    "    img1_desc = extract(img1, img1_keypoints)\n",
    "\n",
    "    for img, matrix in img_set[1:]:\n",
    "        trans = ProjectiveTransform(matrix)\n",
    "        keypoints = trans(img1_keypoints)\n",
    "        desc = extract(img, keypoints)\n",
    "        print(len(desc))\n",
    "        \n",
    "    print(len(img1_desc))"
   ]
  },
  {
   "cell_type": "code",
   "execution_count": 15,
   "metadata": {},
   "outputs": [
    {
     "name": "stdout",
     "output_type": "stream",
     "text": [
      "Testing \"blur-1\" set...\n",
      "150\n",
      "150\n",
      "150\n",
      "150\n",
      "150\n",
      "150\n",
      "Done.\n",
      "Testing \"blur-2\" set...\n",
      "150\n",
      "150\n",
      "150\n",
      "150\n",
      "150\n",
      "150\n",
      "Done.\n",
      "Testing \"jpeg-compression\" set...\n",
      "150\n",
      "150\n",
      "150\n",
      "150\n",
      "150\n",
      "150\n",
      "Done.\n",
      "Testing \"light\" set...\n",
      "150\n",
      "150\n",
      "150\n",
      "150\n",
      "150\n",
      "150\n",
      "Done.\n",
      "Testing \"viewpoint-1\" set...\n",
      "150\n",
      "150\n",
      "150\n",
      "150\n",
      "150\n",
      "150\n",
      "Done.\n",
      "Testing \"viewpoint-2\" set...\n",
      "150\n",
      "150\n",
      "150\n",
      "150\n",
      "150\n",
      "150\n",
      "Done.\n",
      "Testing \"zoom-rotation-1\" set...\n",
      "150\n",
      "150\n",
      "150\n",
      "150\n",
      "150\n",
      "150\n",
      "Done.\n",
      "Testing \"zoom-rotation-2\" set...\n",
      "150\n",
      "150\n",
      "150\n",
      "150\n",
      "150\n",
      "150\n",
      "Done.\n"
     ]
    }
   ],
   "source": [
    "names = [('blur-1', 'ppm'),\n",
    "         ('blur-2', 'ppm'),\n",
    "         ('jpeg-compression', 'ppm'),\n",
    "         ('light', 'ppm'),\n",
    "         ('viewpoint-1', 'ppm'),\n",
    "         ('viewpoint-2', 'ppm'),\n",
    "         ('zoom-rotation-1', 'ppm'),\n",
    "         ('zoom-rotation-2', 'pgm')]\n",
    "\n",
    "for name, extension in names:\n",
    "    try:\n",
    "        print('Testing \"{}\" set...'.format(name))\n",
    "        img_set = read_image_set(path.join('./images', name), extension=extension)\n",
    "        test(img_set)\n",
    "        print('Done.')\n",
    "    except Exception as exception:\n",
    "        print(exception)"
   ]
  },
  {
   "cell_type": "code",
   "execution_count": null,
   "metadata": {},
   "outputs": [],
   "source": []
  }
 ],
 "metadata": {
  "kernelspec": {
   "display_name": "Python 3",
   "language": "python",
   "name": "python3"
  },
  "language_info": {
   "codemirror_mode": {
    "name": "ipython",
    "version": 3
   },
   "file_extension": ".py",
   "mimetype": "text/x-python",
   "name": "python",
   "nbconvert_exporter": "python",
   "pygments_lexer": "ipython3",
   "version": "3.6.2"
  }
 },
 "nbformat": 4,
 "nbformat_minor": 2
}
