{
 "cells": [
  {
   "cell_type": "code",
   "execution_count": 1,
   "metadata": {},
   "outputs": [],
   "source": [
    "import numpy as np\n",
    "import matplotlib.pyplot as plt\n",
    "import os\n",
    "\n",
    "%matplotlib inline"
   ]
  },
  {
   "cell_type": "code",
   "execution_count": 1,
   "metadata": {},
   "outputs": [
    {
     "name": "stdout",
     "output_type": "stream",
     "text": [
      "0.8766086237423817\n"
     ]
    }
   ],
   "source": [
    "!python test.py"
   ]
  },
  {
   "cell_type": "code",
   "execution_count": 62,
   "metadata": {},
   "outputs": [
    {
     "name": "stdout",
     "output_type": "stream",
     "text": [
      "img2_patch0 img1_patch0\n",
      "img2_patch1 img1_patch1\n",
      "img2_patch3 img1_patch3\n",
      "img2_patch4 img1_patch4\n",
      "img2_patch5 img1_patch5\n"
     ]
    }
   ],
   "source": [
    "!cat ./patches/blur-2/labels.txt | head -n 5"
   ]
  },
  {
   "cell_type": "code",
   "execution_count": 20,
   "metadata": {},
   "outputs": [],
   "source": [
    "from skimage.io import imread\n",
    "from descriptor import distance_weighted, extract_for_patch\n",
    "\n",
    "patch1_org = imread('./patches/blur-2/img2_patch5.png', as_grey=True)\n",
    "patch1_ref = imread('./patches/blur-2/img1_patch5.png', as_grey=True)\n",
    "patch1_wrong = imread('./patches/blur-2/img3_patch6.png', as_grey=True)\n",
    "\n",
    "desc1_org = extract_for_patch(patch1_org)\n",
    "desc1_ref = extract_for_patch(patch1_ref)\n",
    "desc1_wrong = extract_for_patch(patch1_wrong)"
   ]
  },
  {
   "cell_type": "code",
   "execution_count": 25,
   "metadata": {},
   "outputs": [
    {
     "name": "stdout",
     "output_type": "stream",
     "text": [
      "[Exposure] Should be =0, is =0.06494395161139044\n",
      "[Exposure] Should be =1, is =0.761956812775311\n",
      "[Moments] Should be =0, is =0.25903374317457784\n",
      "[Moments] Should be =1, is =0.7697588231982669\n",
      "[Merged] Should be =0, is =0.1425798682366654\n",
      "[Merged] Should be =1, is =0.7650776169444934\n"
     ]
    },
    {
     "data": {
      "image/png": "[encoded data removed]",
      "text/plain": [
       "<Figure size 360x144 with 3 Axes>"
      ]
     },
     "metadata": {},
     "output_type": "display_data"
    }
   ],
   "source": [
    "fig, (ax1, ax2, ax3) = plt.subplots(ncols=3, figsize=(5, 2))\n",
    "ax1.title.set_text('Original')\n",
    "ax1.imshow(patch1_org, cmap='gray')\n",
    "ax2.title.set_text('Ref')\n",
    "ax2.imshow(patch1_ref, cmap='gray')\n",
    "ax3.title.set_text('Wrong')\n",
    "ax3.imshow(patch1_wrong, cmap='gray')\n",
    "plt.tight_layout()\n",
    "\n",
    "# Exposure\n",
    "print('[Exposure] Should be =0, is ={}'.format(distance_weighted(desc1_org, desc1_ref, w_moments=0, w_exposure=1.0)))\n",
    "print('[Exposure] Should be =1, is ={}'.format(distance_weighted(desc1_org, desc1_wrong, w_moments=0, w_exposure=1.0)))\n",
    "# Hu Moments\n",
    "print('[Moments] Should be =0, is ={}'.format(distance_weighted(desc1_org, desc1_ref, w_moments=1.0, w_exposure=0.0)))\n",
    "print('[Moments] Should be =1, is ={}'.format(distance_weighted(desc1_org, desc1_wrong, w_moments=1.0, w_exposure=0.0)))\n",
    "# Merged\n",
    "print('[Merged] Should be =0, is ={}'.format(distance_weighted(desc1_org, desc1_ref, w_moments=0.4, w_exposure=0.6)))\n",
    "print('[Merged] Should be =1, is ={}'.format(distance_weighted(desc1_org, desc1_wrong, w_moments=0.4, w_exposure=0.6)))"
   ]
  },
  {
   "cell_type": "code",
   "execution_count": null,
   "metadata": {},
   "outputs": [],
   "source": []
  }
 ],
 "metadata": {
  "kernelspec": {
   "display_name": "Python 3",
   "language": "python",
   "name": "python3"
  },
  "language_info": {
   "codemirror_mode": {
    "name": "ipython",
    "version": 3
   },
   "file_extension": ".py",
   "mimetype": "text/x-python",
   "name": "python",
   "nbconvert_exporter": "python",
   "pygments_lexer": "ipython3",
   "version": "3.6.2"
  }
 },
 "nbformat": 4,
 "nbformat_minor": 2
}
